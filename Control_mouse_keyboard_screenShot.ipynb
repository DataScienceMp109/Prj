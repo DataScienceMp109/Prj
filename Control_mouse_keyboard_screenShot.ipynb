{
 "cells": [
  {
   "cell_type": "code",
   "execution_count": 18,
   "metadata": {
    "collapsed": false
   },
   "outputs": [],
   "source": [
    "import pyautogui"
   ]
  },
  {
   "cell_type": "code",
   "execution_count": 21,
   "metadata": {
    "collapsed": false
   },
   "outputs": [
    {
     "data": {
      "text/plain": [
       "(1280, 800)"
      ]
     },
     "execution_count": 21,
     "metadata": {},
     "output_type": "execute_result"
    }
   ],
   "source": [
    "pyautogui.size()"
   ]
  },
  {
   "cell_type": "code",
   "execution_count": 22,
   "metadata": {
    "collapsed": true
   },
   "outputs": [],
   "source": [
    "width,height=pyautogui.size()"
   ]
  },
  {
   "cell_type": "code",
   "execution_count": 23,
   "metadata": {
    "collapsed": false
   },
   "outputs": [
    {
     "data": {
      "text/plain": [
       "1280"
      ]
     },
     "execution_count": 23,
     "metadata": {},
     "output_type": "execute_result"
    }
   ],
   "source": [
    "width"
   ]
  },
  {
   "cell_type": "code",
   "execution_count": 24,
   "metadata": {
    "collapsed": false
   },
   "outputs": [
    {
     "data": {
      "text/plain": [
       "800"
      ]
     },
     "execution_count": 24,
     "metadata": {},
     "output_type": "execute_result"
    }
   ],
   "source": [
    "height"
   ]
  },
  {
   "cell_type": "code",
   "execution_count": 148,
   "metadata": {
    "collapsed": false
   },
   "outputs": [
    {
     "data": {
      "text/plain": [
       "(522, 360)"
      ]
     },
     "execution_count": 148,
     "metadata": {},
     "output_type": "execute_result"
    }
   ],
   "source": [
    "pyautogui.position()"
   ]
  },
  {
   "cell_type": "code",
   "execution_count": 31,
   "metadata": {
    "collapsed": false
   },
   "outputs": [],
   "source": [
    "pyautogui.moveTo(10,10)"
   ]
  },
  {
   "cell_type": "code",
   "execution_count": 34,
   "metadata": {
    "collapsed": true
   },
   "outputs": [],
   "source": [
    "pyautogui.moveTo(10,10,duration=15)"
   ]
  },
  {
   "cell_type": "code",
   "execution_count": 36,
   "metadata": {
    "collapsed": true
   },
   "outputs": [],
   "source": [
    "pyautogui.moveRel(200,0,duration=5)"
   ]
  },
  {
   "cell_type": "code",
   "execution_count": 37,
   "metadata": {
    "collapsed": true
   },
   "outputs": [],
   "source": [
    "pyautogui.moveRel(0,-100,duration=5)"
   ]
  },
  {
   "cell_type": "code",
   "execution_count": 43,
   "metadata": {
    "collapsed": true
   },
   "outputs": [],
   "source": [
    "pyautogui.click(391, 127)"
   ]
  },
  {
   "cell_type": "code",
   "execution_count": 44,
   "metadata": {
    "collapsed": true
   },
   "outputs": [],
   "source": [
    "pyautogui.click()"
   ]
  },
  {
   "cell_type": "code",
   "execution_count": 46,
   "metadata": {
    "collapsed": false
   },
   "outputs": [
    {
     "name": "stdout",
     "output_type": "stream",
     "text": [
      "2.7.11 | 64-bit | (default, Jun 11 2016, 11:33:47) [MSC v.1500 64 bit (AMD64)]\n"
     ]
    }
   ],
   "source": [
    "import sys\n",
    "print sys.version"
   ]
  },
  {
   "cell_type": "code",
   "execution_count": 58,
   "metadata": {
    "collapsed": false
   },
   "outputs": [
    {
     "name": "stdout",
     "output_type": "stream",
     "text": [
      "(200, 0)\n",
      "(175, 0)\n",
      "(-175, 0)\n",
      "(0, -150)\n",
      "(150, 0)\n",
      "(125, 0)\n",
      "(-125, 0)\n",
      "(0, -100)\n",
      "(100, 0)\n",
      "(75, 0)\n",
      "(-75, 0)\n",
      "(0, -50)\n",
      "(50, 0)\n",
      "(25, 0)\n",
      "(-25, 0)\n",
      "(0, 0)\n"
     ]
    }
   ],
   "source": [
    "import pyautogui\n",
    "\n",
    "pyautogui.click()\n",
    "distance=200\n",
    "\n",
    "while distance>0:\n",
    "    print(distance,0)\n",
    "    pyautogui.dragRel(distance,0,duration=0.1) # move right \n",
    "    distance = distance - 25\n",
    "    print(distance,0)\n",
    "    pyautogui.dragRel(0,distance,duration=0.1 )# move down\n",
    "    print(-distance,0)\n",
    "    pyautogui.dragRel(-distance,0,duration=0.1) # move left  \n",
    "    distance = distance - 25\n",
    "    print(0,-distance)                  \n",
    "    pyautogui.dragRel(0,-distance,duration=0.1) # move up                   "
   ]
  },
  {
   "cell_type": "code",
   "execution_count": 70,
   "metadata": {
    "collapsed": false
   },
   "outputs": [],
   "source": [
    "pyautogui.click(34,83)\n",
    "pyautogui.typewrite('hello world!',interval=0.2)"
   ]
  },
  {
   "cell_type": "code",
   "execution_count": 72,
   "metadata": {
    "collapsed": true
   },
   "outputs": [],
   "source": [
    "pyautogui.click(34,83)\n",
    "pyautogui.typewrite('hello world!',interval=0.2)\n",
    "pyautogui.click(34,86)\n",
    "pyautogui.typewrite(['a','b','left','left','X','Y'],interval=0.2)"
   ]
  },
  {
   "cell_type": "code",
   "execution_count": 77,
   "metadata": {
    "collapsed": true
   },
   "outputs": [
    {
     "data": {
      "text/plain": [
       "['\\t',\n",
       " '\\n',\n",
       " '\\r',\n",
       " ' ',\n",
       " '!',\n",
       " '\"',\n",
       " '#',\n",
       " '$',\n",
       " '%',\n",
       " '&',\n",
       " \"'\",\n",
       " '(',\n",
       " ')',\n",
       " '*',\n",
       " '+',\n",
       " ',',\n",
       " '-',\n",
       " '.',\n",
       " '/',\n",
       " '0',\n",
       " '1',\n",
       " '2',\n",
       " '3',\n",
       " '4',\n",
       " '5',\n",
       " '6',\n",
       " '7',\n",
       " '8',\n",
       " '9',\n",
       " ':',\n",
       " ';',\n",
       " '<',\n",
       " '=',\n",
       " '>',\n",
       " '?',\n",
       " '@',\n",
       " '[',\n",
       " '\\\\',\n",
       " ']',\n",
       " '^',\n",
       " '_',\n",
       " '`',\n",
       " 'a',\n",
       " 'b',\n",
       " 'c',\n",
       " 'd',\n",
       " 'e',\n",
       " 'f',\n",
       " 'g',\n",
       " 'h',\n",
       " 'i',\n",
       " 'j',\n",
       " 'k',\n",
       " 'l',\n",
       " 'm',\n",
       " 'n',\n",
       " 'o',\n",
       " 'p',\n",
       " 'q',\n",
       " 'r',\n",
       " 's',\n",
       " 't',\n",
       " 'u',\n",
       " 'v',\n",
       " 'w',\n",
       " 'x',\n",
       " 'y',\n",
       " 'z',\n",
       " '{',\n",
       " '|',\n",
       " '}',\n",
       " '~',\n",
       " 'accept',\n",
       " 'add',\n",
       " 'alt',\n",
       " 'altleft',\n",
       " 'altright',\n",
       " 'apps',\n",
       " 'backspace',\n",
       " 'browserback',\n",
       " 'browserfavorites',\n",
       " 'browserforward',\n",
       " 'browserhome',\n",
       " 'browserrefresh',\n",
       " 'browsersearch',\n",
       " 'browserstop',\n",
       " 'capslock',\n",
       " 'clear',\n",
       " 'convert',\n",
       " 'ctrl',\n",
       " 'ctrlleft',\n",
       " 'ctrlright',\n",
       " 'decimal',\n",
       " 'del',\n",
       " 'delete',\n",
       " 'divide',\n",
       " 'down',\n",
       " 'end',\n",
       " 'enter',\n",
       " 'esc',\n",
       " 'escape',\n",
       " 'execute',\n",
       " 'f1',\n",
       " 'f10',\n",
       " 'f11',\n",
       " 'f12',\n",
       " 'f13',\n",
       " 'f14',\n",
       " 'f15',\n",
       " 'f16',\n",
       " 'f17',\n",
       " 'f18',\n",
       " 'f19',\n",
       " 'f2',\n",
       " 'f20',\n",
       " 'f21',\n",
       " 'f22',\n",
       " 'f23',\n",
       " 'f24',\n",
       " 'f3',\n",
       " 'f4',\n",
       " 'f5',\n",
       " 'f6',\n",
       " 'f7',\n",
       " 'f8',\n",
       " 'f9',\n",
       " 'final',\n",
       " 'fn',\n",
       " 'hanguel',\n",
       " 'hangul',\n",
       " 'hanja',\n",
       " 'help',\n",
       " 'home',\n",
       " 'insert',\n",
       " 'junja',\n",
       " 'kana',\n",
       " 'kanji',\n",
       " 'launchapp1',\n",
       " 'launchapp2',\n",
       " 'launchmail',\n",
       " 'launchmediaselect',\n",
       " 'left',\n",
       " 'modechange',\n",
       " 'multiply',\n",
       " 'nexttrack',\n",
       " 'nonconvert',\n",
       " 'num0',\n",
       " 'num1',\n",
       " 'num2',\n",
       " 'num3',\n",
       " 'num4',\n",
       " 'num5',\n",
       " 'num6',\n",
       " 'num7',\n",
       " 'num8',\n",
       " 'num9',\n",
       " 'numlock',\n",
       " 'pagedown',\n",
       " 'pageup',\n",
       " 'pause',\n",
       " 'pgdn',\n",
       " 'pgup',\n",
       " 'playpause',\n",
       " 'prevtrack',\n",
       " 'print',\n",
       " 'printscreen',\n",
       " 'prntscrn',\n",
       " 'prtsc',\n",
       " 'prtscr',\n",
       " 'return',\n",
       " 'right',\n",
       " 'scrolllock',\n",
       " 'select',\n",
       " 'separator',\n",
       " 'shift',\n",
       " 'shiftleft',\n",
       " 'shiftright',\n",
       " 'sleep',\n",
       " 'stop',\n",
       " 'subtract',\n",
       " 'tab',\n",
       " 'up',\n",
       " 'volumedown',\n",
       " 'volumemute',\n",
       " 'volumeup',\n",
       " 'win',\n",
       " 'winleft',\n",
       " 'winright',\n",
       " 'yen',\n",
       " 'command',\n",
       " 'option',\n",
       " 'optionleft',\n",
       " 'optionright']"
      ]
     },
     "execution_count": 77,
     "metadata": {},
     "output_type": "execute_result"
    }
   ],
   "source": [
    "pyautogui.KEYBOARD_KEYS"
   ]
  },
  {
   "cell_type": "code",
   "execution_count": 83,
   "metadata": {
    "collapsed": false
   },
   "outputs": [],
   "source": [
    "pyautogui.click(34,83)\n",
    "pyautogui.press('f5')"
   ]
  },
  {
   "cell_type": "code",
   "execution_count": 94,
   "metadata": {
    "collapsed": true
   },
   "outputs": [],
   "source": [
    "pyautogui.click(34,83)\n",
    "pyautogui.hotkey('ctrl','o')"
   ]
  },
  {
   "cell_type": "markdown",
   "metadata": {
    "collapsed": false
   },
   "source": [
    "pyautogui.screenshot('C:\\\\Users\\\\mac\\\\Desktop\\\\DataScience\\\\d\\\\goal.png')"
   ]
  },
  {
   "cell_type": "code",
   "execution_count": 136,
   "metadata": {
    "collapsed": false
   },
   "outputs": [],
   "source": [
    "p1=pyautogui.locateOnScreen('C:\\\\Users\\\\mac\\\\Desktop\\\\DataScience\\\\d\\\\1.png')"
   ]
  },
  {
   "cell_type": "code",
   "execution_count": 138,
   "metadata": {
    "collapsed": false
   },
   "outputs": [],
   "source": [
    "p1=list(p1)"
   ]
  },
  {
   "cell_type": "code",
   "execution_count": 151,
   "metadata": {
    "collapsed": true
   },
   "outputs": [],
   "source": [
    "pyautogui.moveTo(520,260,duration=1)\n",
    "pyautogui.click()\n",
    "pyautogui.typewrite('pei.m',interval=0.2)\n",
    "pyautogui.moveTo(519,320,duration=1)\n",
    "pyautogui.click()\n",
    "pyautogui.typewrite('Pm20010107',interval=0.2)\n",
    "pyautogui.moveTo(522,360,duration=1)\n",
    "pyautogui.click()\n",
    "# pyautogui.typewrite('Pm20010107',interval=0.2)"
   ]
  },
  {
   "cell_type": "code",
   "execution_count": 130,
   "metadata": {
    "collapsed": false
   },
   "outputs": [
    {
     "data": {
      "text/plain": [
       "(753, 441, 319, 74)"
      ]
     },
     "execution_count": 130,
     "metadata": {},
     "output_type": "execute_result"
    }
   ],
   "source": [
    "pyautogui.locateOnScreen('C:\\\\Users\\\\mac\\\\Desktop\\\\DataScience\\\\d\\\\2.png')"
   ]
  },
  {
   "cell_type": "code",
   "execution_count": 131,
   "metadata": {
    "collapsed": false
   },
   "outputs": [
    {
     "data": {
      "text/plain": [
       "(750, 511, 87, 51)"
      ]
     },
     "execution_count": 131,
     "metadata": {},
     "output_type": "execute_result"
    }
   ],
   "source": [
    "pyautogui.locateOnScreen('C:\\\\Users\\\\mac\\\\Desktop\\\\DataScience\\\\d\\\\3.png')"
   ]
  }
 ],
 "metadata": {
  "kernelspec": {
   "display_name": "Python 2",
   "language": "python",
   "name": "python2"
  },
  "language_info": {
   "codemirror_mode": {
    "name": "ipython",
    "version": 2
   },
   "file_extension": ".py",
   "mimetype": "text/x-python",
   "name": "python",
   "nbconvert_exporter": "python",
   "pygments_lexer": "ipython2",
   "version": "2.7.11"
  }
 },
 "nbformat": 4,
 "nbformat_minor": 0
}
